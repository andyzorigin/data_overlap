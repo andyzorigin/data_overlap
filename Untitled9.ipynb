{
 "cells": [
  {
   "cell_type": "code",
   "execution_count": 55,
   "id": "8495368c",
   "metadata": {},
   "outputs": [],
   "source": [
    "path = 'output_stats_pile_new2_xaa'\n",
    "output_stats_jsons = open(path, \"r\").readlines()"
   ]
  },
  {
   "cell_type": "code",
   "execution_count": 2,
   "id": "38fdbf2c",
   "metadata": {},
   "outputs": [
    {
     "data": {
      "text/plain": [
       "'{\"data_overlap_stats_key\": {\"light_scenario_key\": {\"scenario_spec\": {\"class_name\": \"helm.benchmark.scenarios.mmlu_scenario.MMLUScenario\", \"args\": {\"subject\": \"sociology\"}}, \"split\": \"train\"}, \"overlap_protocol_spec\": {\"n\": 5}}, \"num_instances\": 5, \"instance_ids_with_overlapping_input\": [\"id0\", \"id1\", \"id3\", \"id4\"], \"instance_ids_with_overlapping_reference\": [\"id0\", \"id2\", \"id3\", \"id4\"]}\\n'"
      ]
     },
     "execution_count": 2,
     "metadata": {},
     "output_type": "execute_result"
    }
   ],
   "source": [
    "output_stats_jsons[0]"
   ]
  },
  {
   "cell_type": "code",
   "execution_count": 3,
   "id": "4409a3f8",
   "metadata": {},
   "outputs": [],
   "source": [
    "import json"
   ]
  },
  {
   "cell_type": "code",
   "execution_count": 5,
   "id": "24bbd4ec",
   "metadata": {},
   "outputs": [],
   "source": [
    "output_stats_dict = json.loads(output_stats_jsons[0])"
   ]
  },
  {
   "cell_type": "code",
   "execution_count": 25,
   "id": "360126b9",
   "metadata": {},
   "outputs": [
    {
     "data": {
      "text/plain": [
       "DataOverlapStats(data_overlap_stats_key=DataOverlapStatsKey(light_scenario_key=LightScenarioKey(scenario_spec=ScenarioSpec(class_name='helm.benchmark.scenarios.mmlu_scenario.MMLUScenario', args={'subject': 'sociology'}), split='train'), overlap_protocol_spec=OverlapProtocolSpec(n=5)), num_instances=5, instance_ids_with_overlapping_input=['id0', 'id1', 'id3', 'id4'], instance_ids_with_overlapping_reference=['id0', 'id2', 'id3', 'id4'])"
      ]
     },
     "execution_count": 25,
     "metadata": {},
     "output_type": "execute_result"
    }
   ],
   "source": [
    "from data_overlap_spec import DataOverlapStats\n",
    "data_overlap_stats = cattrs.structure(output_stats_dict, DataOverlapStats)\n",
    "data_overlap_stats"
   ]
  },
  {
   "cell_type": "code",
   "execution_count": 22,
   "id": "4f3f568d",
   "metadata": {},
   "outputs": [
    {
     "data": {
      "text/plain": [
       "5"
      ]
     },
     "execution_count": 22,
     "metadata": {},
     "output_type": "execute_result"
    }
   ],
   "source": [
    "data_overlap_stats.num_instances"
   ]
  },
  {
   "cell_type": "code",
   "execution_count": 23,
   "id": "2456a0a9",
   "metadata": {},
   "outputs": [
    {
     "data": {
      "text/plain": [
       "['id0', 'id1', 'id3', 'id4']"
      ]
     },
     "execution_count": 23,
     "metadata": {},
     "output_type": "execute_result"
    }
   ],
   "source": [
    "data_overlap_stats.instance_ids_with_overlapping_input"
   ]
  },
  {
   "cell_type": "code",
   "execution_count": 11,
   "id": "7953ce7d",
   "metadata": {},
   "outputs": [
    {
     "data": {
      "text/plain": [
       "0.8"
      ]
     },
     "execution_count": 11,
     "metadata": {},
     "output_type": "execute_result"
    }
   ],
   "source": [
    "len(data_overlap_stats.instance_ids_with_overlapping_input)/data_overlap_stats.num_instances"
   ]
  },
  {
   "cell_type": "code",
   "execution_count": 24,
   "id": "01a540b5",
   "metadata": {},
   "outputs": [
    {
     "data": {
      "text/plain": [
       "data_overlap_spec.DataOverlapStatsKey"
      ]
     },
     "execution_count": 24,
     "metadata": {},
     "output_type": "execute_result"
    }
   ],
   "source": [
    "type(data_overlap_stats.data_overlap_stats_key)"
   ]
  },
  {
   "cell_type": "code",
   "execution_count": 26,
   "id": "153246f5",
   "metadata": {},
   "outputs": [],
   "source": [
    "columns = ['class_name', 'args', 'split', 'n', 'num_instances', 'num_overlapping_inputs', 'num_overlapping_references', 'percent_overlapping_inputs', 'percent_overlapping_references']"
   ]
  },
  {
   "cell_type": "code",
   "execution_count": 46,
   "id": "f0c4615c",
   "metadata": {},
   "outputs": [],
   "source": [
    "def data_overlap_stats_to_cols(data_overlap_stats):\n",
    "    data_overlap_stats_key = data_overlap_stats.data_overlap_stats_key\n",
    "    light_scenario_key = data_overlap_stats_key.light_scenario_key\n",
    "    scenario_spec = light_scenario_key.scenario_spec\n",
    "    class_name = scenario_spec.class_name\n",
    "    args = scenario_spec.args\n",
    "    split = light_scenario_key.split\n",
    "    n = data_overlap_stats_key.overlap_protocol_spec.n\n",
    "    num_instances = data_overlap_stats.num_instances\n",
    "    num_overlapping_inputs = len(data_overlap_stats.instance_ids_with_overlapping_input)\n",
    "    num_overlapping_references = len(data_overlap_stats.instance_ids_with_overlapping_reference)\n",
    "    percent_overlapping_inputs = num_overlapping_inputs / num_instances\n",
    "    percent_overlapping_references = num_overlapping_references / num_instances\n",
    "    return [class_name, args, split, n, num_instances, num_overlapping_inputs, num_overlapping_references, percent_overlapping_inputs, percent_overlapping_references]"
   ]
  },
  {
   "cell_type": "code",
   "execution_count": 47,
   "id": "0b9f92b2",
   "metadata": {},
   "outputs": [
    {
     "data": {
      "text/plain": [
       "'helm.benchmark.scenarios.mmlu_scenario.MMLUScenario'"
      ]
     },
     "execution_count": 47,
     "metadata": {},
     "output_type": "execute_result"
    }
   ],
   "source": [
    "data_overlap_stats.data_overlap_stats_key.light_scenario_key.scenario_spec.class_name"
   ]
  },
  {
   "cell_type": "code",
   "execution_count": 49,
   "id": "5a8e4297",
   "metadata": {},
   "outputs": [],
   "source": [
    "data = data_overlap_stats_to_cols(data_overlap_stats)"
   ]
  },
  {
   "cell_type": "code",
   "execution_count": 52,
   "id": "14250f57",
   "metadata": {},
   "outputs": [],
   "source": [
    "import pandas as pd\n",
    "df = pd.DataFrame([data], columns=columns)"
   ]
  },
  {
   "cell_type": "code",
   "execution_count": 53,
   "id": "15a50ba8",
   "metadata": {},
   "outputs": [
    {
     "data": {
      "text/html": [
       "<div>\n",
       "<style scoped>\n",
       "    .dataframe tbody tr th:only-of-type {\n",
       "        vertical-align: middle;\n",
       "    }\n",
       "\n",
       "    .dataframe tbody tr th {\n",
       "        vertical-align: top;\n",
       "    }\n",
       "\n",
       "    .dataframe thead th {\n",
       "        text-align: right;\n",
       "    }\n",
       "</style>\n",
       "<table border=\"1\" class=\"dataframe\">\n",
       "  <thead>\n",
       "    <tr style=\"text-align: right;\">\n",
       "      <th></th>\n",
       "      <th>class_name</th>\n",
       "      <th>args</th>\n",
       "      <th>split</th>\n",
       "      <th>n</th>\n",
       "      <th>num_instances</th>\n",
       "      <th>num_overlapping_input</th>\n",
       "      <th>num_overlapping_reference</th>\n",
       "      <th>percent_overlapping_input</th>\n",
       "      <th>percent_overlapping_reference</th>\n",
       "    </tr>\n",
       "  </thead>\n",
       "  <tbody>\n",
       "    <tr>\n",
       "      <th>0</th>\n",
       "      <td>helm.benchmark.scenarios.mmlu_scenario.MMLUSce...</td>\n",
       "      <td>{'subject': 'sociology'}</td>\n",
       "      <td>train</td>\n",
       "      <td>5</td>\n",
       "      <td>5</td>\n",
       "      <td>4</td>\n",
       "      <td>4</td>\n",
       "      <td>0.8</td>\n",
       "      <td>0.8</td>\n",
       "    </tr>\n",
       "  </tbody>\n",
       "</table>\n",
       "</div>"
      ],
      "text/plain": [
       "                                          class_name  \\\n",
       "0  helm.benchmark.scenarios.mmlu_scenario.MMLUSce...   \n",
       "\n",
       "                       args  split  n  num_instances  num_overlapping_input  \\\n",
       "0  {'subject': 'sociology'}  train  5              5                      4   \n",
       "\n",
       "   num_overlapping_reference  percent_overlapping_input  \\\n",
       "0                          4                        0.8   \n",
       "\n",
       "   percent_overlapping_reference  \n",
       "0                            0.8  "
      ]
     },
     "execution_count": 53,
     "metadata": {},
     "output_type": "execute_result"
    }
   ],
   "source": [
    "df"
   ]
  },
  {
   "cell_type": "code",
   "execution_count": null,
   "id": "772cc04e",
   "metadata": {},
   "outputs": [],
   "source": []
  }
 ],
 "metadata": {
  "kernelspec": {
   "display_name": "Python 3 (ipykernel)",
   "language": "python",
   "name": "python3"
  },
  "language_info": {
   "codemirror_mode": {
    "name": "ipython",
    "version": 3
   },
   "file_extension": ".py",
   "mimetype": "text/x-python",
   "name": "python",
   "nbconvert_exporter": "python",
   "pygments_lexer": "ipython3",
   "version": "3.10.9"
  }
 },
 "nbformat": 4,
 "nbformat_minor": 5
}
