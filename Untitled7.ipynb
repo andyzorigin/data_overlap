{
 "cells": [
  {
   "cell_type": "code",
   "execution_count": 4,
   "id": "008bc8a2",
   "metadata": {},
   "outputs": [],
   "source": [
    "import json\n",
    "import argparse\n",
    "import os\n",
    "import glob\n",
    "\n",
    "from typing import List, Tuple, Set, DefaultDict\n",
    "from nltk import ngrams\n",
    "from typing import Dict\n",
    "from tqdm import tqdm\n",
    "from dataclasses import dataclass\n",
    "from collections import defaultdict\n",
    "\n",
    "from light_scenario import LightInstance, LightScenario, LightScenarioKey\n",
    "from data_overlap_spec import DataOverlapStats, DataOverlapStatsKey, OverlapProtocolSpec\n",
    "from light_tokenizer import LightTokenizer, DefaultTokenizer\n",
    "from load_documents import get_document_iterator\n",
    "from common.hierarchical_logger import hlog, htrack_block\n",
    "from common.general import asdict_without_nones\n",
    "from scenarios.scenario import ScenarioSpec\n",
    "\n",
    "\n",
    "# The n values of the ngrams to be computed\n",
    "N_VALUES: List[int] = [5, 9, 13]  # TODO: Pick the N values\n",
    "\n",
    "PART_INPUT: str = \"input\"\n",
    "PART_REF: str = \"reference\"\n",
    "\n",
    "\n",
    "@dataclass(frozen=True)\n",
    "class EntryDataOverlapKey:\n",
    "    \"\"\"Unique key representing either the input or references of a single instance in a scenario.\"\"\"\n",
    "\n",
    "    stats_key: DataOverlapStatsKey\n",
    "    part: str\n",
    "    \"\"\"Either PART_INPUT or PART_REF\"\"\"\n",
    "    instance_id: str\n",
    "\n",
    "\n",
    "# type alias for overlap-related data structures\n",
    "Ngram = Tuple[str, ...]\n",
    "NgramIndex = Dict[int, Dict[Ngram, Set[EntryDataOverlapKey]]]\n",
    "NgramCounter = Dict[EntryDataOverlapKey, Dict[Ngram, int]]\n",
    "\n",
    "\n",
    "def load_light_scenarios_from_jsonl(path: str) -> List[LightScenario]:\n",
    "    \"\"\"\n",
    "    Create a list of light scenarios from a jsonl file, where each json represents a LightScenario object.\n",
    "\n",
    "    Input file format:\n",
    "\n",
    "    Instance JSON 1\n",
    "    Instance JSON 2\n",
    "    Instance JSON 3\n",
    "    ...\n",
    "    \"\"\"\n",
    "\n",
    "    def create_light_instance_from_dict(instance_dict: dict) -> LightInstance:\n",
    "        return LightInstance(\n",
    "            input=instance_dict[PART_INPUT], references=instance_dict[\"references\"], id=instance_dict[\"id\"]\n",
    "        )\n",
    "\n",
    "    light_scenarios: List[LightScenario] = []\n",
    "    light_scenario_jsons = open(path, \"r\").readlines()\n",
    "    for light_scenario_json in light_scenario_jsons:\n",
    "        light_scenario_dict: dict = json.loads(light_scenario_json)\n",
    "\n",
    "        light_scenario_key_dict: dict = light_scenario_dict[\"scenario_key\"]\n",
    "        # if the light_scenarios are exported from helm, they will have a scenario_spec field\n",
    "        scenario_spec = ScenarioSpec(**light_scenario_key_dict[\"scenario_spec\"])\n",
    "        light_scenario_key = LightScenarioKey(scenario_spec=scenario_spec, split=light_scenario_key_dict[\"split\"])\n",
    "        light_instances: List[LightInstance] = [\n",
    "            create_light_instance_from_dict(instance_dict) for instance_dict in light_scenario_dict[\"instances\"]\n",
    "        ]\n",
    "        light_scenarios.append(LightScenario(scenario_key=light_scenario_key, instances=light_instances))\n",
    "    return light_scenarios\n",
    "\n",
    "\n"
   ]
  },
  {
   "cell_type": "code",
   "execution_count": 6,
   "id": "5ad2d3fc",
   "metadata": {},
   "outputs": [],
   "source": [
    "infile_name = 'scenario_data_new'\n",
    "outfile_name = infile_name + '_keys_scenario3'\n",
    "light_scenarios = load_light_scenarios_from_jsonl(infile_name)\n",
    "scenario_keys = []\n",
    "for light_scenario in light_scenarios:\n",
    "    scenario_keys.append(light_scenario.scenario_key)\n",
    "from common.general import asdict_without_nones"
   ]
  },
  {
   "cell_type": "code",
   "execution_count": 8,
   "id": "e4f4c0a9",
   "metadata": {},
   "outputs": [
    {
     "name": "stdout",
     "output_type": "stream",
     "text": [
      "LightScenarioKey(scenario_spec=ScenarioSpec(class_name='helm.benchmark.scenarios.mmlu_scenario.MMLUScenario', args={'subject': 'sociology'}), split='train')\n",
      "train\n"
     ]
    }
   ],
   "source": [
    "print(scenario_keys[0])\n",
    "print(scenario_keys[0].split)"
   ]
  },
  {
   "cell_type": "code",
   "execution_count": 10,
   "id": "5cbb0137",
   "metadata": {},
   "outputs": [],
   "source": [
    "with open(outfile_name, \"w\") as f:\n",
    "    f.writelines(f\"{json.dumps(asdict_without_nones(scenario_key.scenario_spec))}; {scenario_key.split}\\n\" for scenario_key in scenario_keys)"
   ]
  },
  {
   "cell_type": "code",
   "execution_count": null,
   "id": "9e14b142",
   "metadata": {},
   "outputs": [],
   "source": []
  }
 ],
 "metadata": {
  "kernelspec": {
   "display_name": "venv",
   "language": "python",
   "name": "venv"
  },
  "language_info": {
   "codemirror_mode": {
    "name": "ipython",
    "version": 3
   },
   "file_extension": ".py",
   "mimetype": "text/x-python",
   "name": "python",
   "nbconvert_exporter": "python",
   "pygments_lexer": "ipython3",
   "version": "3.10.9"
  }
 },
 "nbformat": 4,
 "nbformat_minor": 5
}
