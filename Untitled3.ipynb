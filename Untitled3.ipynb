{
 "cells": [
  {
   "cell_type": "code",
   "execution_count": 3,
   "id": "9f1dbf1f",
   "metadata": {},
   "outputs": [],
   "source": [
    "from typing import List\n",
    "\n",
    "from compute_data_overlap_metrics import (\n",
    "    create_all_data_overlap_stats,\n",
    "    get_all_data_overlap_stats,\n",
    "    create_ngram_index,\n",
    "    EntryDataOverlapKey,\n",
    "    Ngram,\n",
    "    NgramIndex,\n",
    "    AllDataOverlapStats\n",
    ")\n",
    "from data_overlap_spec import DataOverlapStats, DataOverlapStatsKey, OverlapProtocolSpec\n",
    "from light_scenario import LightScenario, LightInstance, LightScenarioKey\n",
    "from light_tokenizer import LightTokenizer, DefaultTokenizer\n",
    "from data_overlap_stats import (\n",
    "    OldDataOverlapStatsKey,\n",
    "    OldDataOverlapStats,\n",
    "    PART_INPUT,\n",
    "    PART_REF,\n",
    ")\n",
    "from scenarios.scenario import ScenarioSpec\n",
    "\n",
    "N_VALUES = [5, 13]\n",
    "\n",
    "ALL_DATA_OVERLAP_STATS = [\n",
    "    DataOverlapStats(\n",
    "        data_overlap_stats_key=DataOverlapStatsKey(\n",
    "            light_scenario_key=LightScenarioKey(\n",
    "                scenario_spec=ScenarioSpec(\n",
    "                    class_name=\"helm.benchmark.scenarios.natural_qa_scenario.NaturalQAScenario\", args={}\n",
    "                ),\n",
    "                split=\"test\",\n",
    "            ),\n",
    "            overlap_protocol_spec=OverlapProtocolSpec(N=13),\n",
    "        ),\n",
    "        instance_ids_with_overlapping_input=[\"id1\"],\n",
    "        instance_ids_with_overlapping_reference=[\"id1\"],\n",
    "    ),\n",
    "    DataOverlapStats(\n",
    "        data_overlap_stats_key=DataOverlapStatsKey(\n",
    "            light_scenario_key=LightScenarioKey(\n",
    "                scenario_spec=ScenarioSpec(\n",
    "                    class_name=\"helm.benchmark.scenarios.natural_qa_scenario.NaturalQAScenario2\", args={}\n",
    "                ),\n",
    "                split=\"test\",\n",
    "            ),\n",
    "            overlap_protocol_spec=OverlapProtocolSpec(N=5),\n",
    "        ),\n",
    "        instance_ids_with_overlapping_input=[\"id1\"],\n",
    "        instance_ids_with_overlapping_reference=[\"id1\"],\n",
    "    ),\n",
    "]\n",
    "\n",
    "\n",
    "TEST_DOCUMENT: str = (\n",
    "    \"The Center for Research on Foundation Models (CRFM) is \"\n",
    "    \"an interdisciplinary initiative born out of the Stanford \"\n",
    "    \"Institute for Human-Centered Artificial Intelligence (HAI) \"\n",
    "    \"that aims to make fundamental advances in the study, development, \"\n",
    "    \"and deployment of foundation models.\"\n",
    ")\n",
    "\n",
    "TEST_TOKENS_SPLIT_BY_SPACE: List[str] = [\n",
    "    \"The\",\n",
    "    \"Center\",\n",
    "    \"for\",\n",
    "    \"Research\",\n",
    "    \"on\",\n",
    "    \"Foundation\",\n",
    "    \"Models\",\n",
    "    \"(CRFM)\",\n",
    "    \"is\",\n",
    "    \"an\",\n",
    "    \"interdisciplinary\",\n",
    "    \"initiative\",\n",
    "    \"born\",\n",
    "    \"out\",\n",
    "    \"of\",\n",
    "    \"the\",\n",
    "    \"Stanford\",\n",
    "    \"Institute\",\n",
    "    \"for\",\n",
    "    \"Human-Centered\",\n",
    "    \"Artificial\",\n",
    "    \"Intelligence\",\n",
    "    \"(HAI)\",\n",
    "    \"that\",\n",
    "    \"aims\",\n",
    "    \"to\",\n",
    "    \"make\",\n",
    "    \"fundamental\",\n",
    "    \"advances\",\n",
    "    \"in\",\n",
    "    \"the\",\n",
    "    \"study,\",\n",
    "    \"development,\",\n",
    "    \"and\",\n",
    "    \"deployment\",\n",
    "    \"of\",\n",
    "    \"foundation\",\n",
    "    \"models.\",\n",
    "]\n",
    "\n",
    "TEST_TOKENS_BY_DEFAULT_TOKENIZER: List[str] = [\n",
    "    \"the\",\n",
    "    \"center\",\n",
    "    \"for\",\n",
    "    \"research\",\n",
    "    \"on\",\n",
    "    \"foundation\",\n",
    "    \"models\",\n",
    "    \"crfm\",\n",
    "    \"is\",\n",
    "    \"an\",\n",
    "    \"interdisciplinary\",\n",
    "    \"initiative\",\n",
    "    \"born\",\n",
    "    \"out\",\n",
    "    \"of\",\n",
    "    \"the\",\n",
    "    \"stanford\",\n",
    "    \"institute\",\n",
    "    \"for\",\n",
    "    \"human\",\n",
    "    \"centered\",\n",
    "    \"artificial\",\n",
    "    \"intelligence\",\n",
    "    \"hai\",\n",
    "    \"that\",\n",
    "    \"aims\",\n",
    "    \"to\",\n",
    "    \"make\",\n",
    "    \"fundamental\",\n",
    "    \"advances\",\n",
    "    \"in\",\n",
    "    \"the\",\n",
    "    \"study\",\n",
    "    \"development\",\n",
    "    \"and\",\n",
    "    \"deployment\",\n",
    "    \"of\",\n",
    "    \"foundation\",\n",
    "    \"models\",\n",
    "    \"\",\n",
    "]\n",
    "\n",
    "TEST_SCENARIO_1 = LightScenario(\n",
    "    scenario_key=LightScenarioKey(\n",
    "        scenario_spec=ScenarioSpec(\n",
    "            class_name=\"helm.benchmark.scenarios.natural_qa_scenario.NaturalQAScenario\", args={}\n",
    "        ),\n",
    "        split=\"test\",\n",
    "    ),\n",
    "    instances=[\n",
    "        LightInstance(input=\"Center for Research on Foundation\", references=[\"bar\", \"baz\"], id=\"id1\"),\n",
    "        LightInstance(input=\"bar bar\", references=[\"foo\", \"baz\"], id=\"id2\"),\n",
    "    ],\n",
    ")\n",
    "TEST_SCENARIO_2 = LightScenario(\n",
    "    scenario_key=LightScenarioKey(\n",
    "        scenario_spec=ScenarioSpec(\n",
    "            class_name=\"helm.benchmark.scenarios.natural_qa_scenario.NaturalQAScenario2\", args={}\n",
    "        ),\n",
    "        split=\"test\",\n",
    "    ),\n",
    "    instances=[LightInstance(input=TEST_DOCUMENT, references=[TEST_DOCUMENT, TEST_DOCUMENT], id=\"id1\")],\n",
    ")\n",
    "\n"
   ]
  },
  {
   "cell_type": "code",
   "execution_count": 4,
   "id": "0345349f",
   "metadata": {},
   "outputs": [
    {
     "name": "stdout",
     "output_type": "stream",
     "text": [
      "Initializing all data overlap stats\n"
     ]
    }
   ],
   "source": [
    "scenarios = [TEST_SCENARIO_1, TEST_SCENARIO_2]\n",
    "all_overlap_stats: AllDataOverlapStats\n",
    "all_overlap_stats = create_all_data_overlap_stats(light_scenarios=scenarios, n_values=N_VALUES)\n",
    "\n",
    " "
   ]
  },
  {
   "cell_type": "code",
   "execution_count": 5,
   "id": "02c0f96c",
   "metadata": {},
   "outputs": [],
   "source": [
    "n_values = N_VALUES\n",
    "from data_overlap_stats import (\n",
    "    OldDataOverlapStatsKey,\n",
    "    OldDataOverlapStats,\n",
    "    PART_INPUT,\n",
    "    PART_REF,\n",
    ")\n",
    "all_overlap_stats: AllDataOverlapStats = {}\n",
    "for scenario in scenarios:\n",
    "    for n in n_values:\n",
    "        # Initialize a stats instance for every pair of <scenario, n>\n",
    "        stats: OldDataOverlapStats = OldDataOverlapStats.from_scenario(scenario, stats_tags={\"N\": n})\n",
    "        if stats.stats_key in all_overlap_stats:\n",
    "            print(stats.stats_key)\n",
    "            print('hi')\n",
    "        all_overlap_stats[stats.stats_key] = stats\n",
    " "
   ]
  },
  {
   "cell_type": "code",
   "execution_count": 6,
   "id": "5faf7a38",
   "metadata": {},
   "outputs": [
    {
     "name": "stdout",
     "output_type": "stream",
     "text": [
      "{OldDataOverlapStatsKey(metadata={'light_scenario_key': LightScenarioKey(scenario_spec=ScenarioSpec(class_name='helm.benchmark.scenarios.natural_qa_scenario.NaturalQAScenario', args={}), split='test'), 'N': 5}): <data_overlap_stats.OldDataOverlapStats object at 0x13f4e11b0>, OldDataOverlapStatsKey(metadata={'light_scenario_key': LightScenarioKey(scenario_spec=ScenarioSpec(class_name='helm.benchmark.scenarios.natural_qa_scenario.NaturalQAScenario', args={}), split='test'), 'N': 13}): <data_overlap_stats.OldDataOverlapStats object at 0x13f4e0df0>, OldDataOverlapStatsKey(metadata={'light_scenario_key': LightScenarioKey(scenario_spec=ScenarioSpec(class_name='helm.benchmark.scenarios.natural_qa_scenario.NaturalQAScenario2', args={}), split='test'), 'N': 5}): <data_overlap_stats.OldDataOverlapStats object at 0x13f4e1390>, OldDataOverlapStatsKey(metadata={'light_scenario_key': LightScenarioKey(scenario_spec=ScenarioSpec(class_name='helm.benchmark.scenarios.natural_qa_scenario.NaturalQAScenario2', args={}), split='test'), 'N': 13}): <data_overlap_stats.OldDataOverlapStats object at 0x13f4e1240>}\n"
     ]
    }
   ],
   "source": [
    "print(all_overlap_stats)"
   ]
  },
  {
   "cell_type": "code",
   "execution_count": 13,
   "id": "9bb96b39",
   "metadata": {},
   "outputs": [
    {
     "name": "stdout",
     "output_type": "stream",
     "text": [
      "Building ngram indexes for LightScenarioKey(scenario_spec=ScenarioSpec(class_name='helm.benchmark.scenarios.natural_qa_scenario.NaturalQAScenario', args={}), split='test')\n",
      "Building ngram indexes for LightScenarioKey(scenario_spec=ScenarioSpec(class_name='helm.benchmark.scenarios.natural_qa_scenario.NaturalQAScenario2', args={}), split='test')\n"
     ]
    }
   ],
   "source": [
    "from typing import List, DefaultDict, Set\n",
    "\n",
    "from collections import defaultdict\n",
    "from compute_data_overlap_metrics import (\n",
    "    create_all_data_overlap_stats,\n",
    "    compute_document_data_overlap,\n",
    "    create_ngram_index,\n",
    "    EntryDataOverlapKey,\n",
    "    Ngram,\n",
    "    NgramIndex,\n",
    "    AllDataOverlapStats,\n",
    ")\n",
    "\n",
    "tokenizer = LightTokenizer()\n",
    "stats_keys = set()\n",
    "scenarios = [TEST_SCENARIO_1, TEST_SCENARIO_2]\n",
    "ngram_index: NgramIndex\n",
    "ngram_index = create_ngram_index(\n",
    "    light_scenarios=scenarios, n_values=N_VALUES, tokenizer=tokenizer, stats_keys=stats_keys\n",
    ")\n",
    "\n",
    "stats_1_key, stats_2_key, stats_3_key = (\n",
    "    DataOverlapStatsKey(\n",
    "        light_scenario_key=TEST_SCENARIO_1.scenario_key, overlap_protocol_spec=OverlapProtocolSpec(N=5)\n",
    "    ),\n",
    "    DataOverlapStatsKey(\n",
    "        light_scenario_key=TEST_SCENARIO_2.scenario_key, overlap_protocol_spec=OverlapProtocolSpec(N=5)\n",
    "    ),\n",
    "    DataOverlapStatsKey(\n",
    "        light_scenario_key=TEST_SCENARIO_2.scenario_key, overlap_protocol_spec=OverlapProtocolSpec(N=13)\n",
    "    ),\n",
    ")\n",
    "\n",
    "test_5_gram: Ngram = (\"Center\", \"for\", \"Research\", \"on\", \"Foundation\")\n",
    "\n",
    "stats_key_to_input_ids: DefaultDict[DataOverlapStatsKey, Set] = defaultdict(set)\n",
    "stats_key_to_reference_ids: DefaultDict[DataOverlapStatsKey, Set] = defaultdict(set)\n",
    "\n",
    "compute_document_data_overlap(\n",
    "    document=TEST_DOCUMENT,\n",
    "    ngram_index=ngram_index,\n",
    "    tokenizer=tokenizer,\n",
    "    stats_key_to_input_ids=stats_key_to_input_ids,\n",
    "    stats_key_to_reference_ids=stats_key_to_reference_ids,\n",
    ")"
   ]
  },
  {
   "cell_type": "code",
   "execution_count": 14,
   "id": "e2ab9c9a",
   "metadata": {},
   "outputs": [
    {
     "data": {
      "text/plain": [
       "defaultdict(set,\n",
       "            {DataOverlapStatsKey(light_scenario_key=LightScenarioKey(scenario_spec=ScenarioSpec(class_name='helm.benchmark.scenarios.natural_qa_scenario.NaturalQAScenario2', args={}), split='test'), overlap_protocol_spec=OverlapProtocolSpec(N=5)): {'id1'},\n",
       "             DataOverlapStatsKey(light_scenario_key=LightScenarioKey(scenario_spec=ScenarioSpec(class_name='helm.benchmark.scenarios.natural_qa_scenario.NaturalQAScenario', args={}), split='test'), overlap_protocol_spec=OverlapProtocolSpec(N=5)): {'id1'},\n",
       "             DataOverlapStatsKey(light_scenario_key=LightScenarioKey(scenario_spec=ScenarioSpec(class_name='helm.benchmark.scenarios.natural_qa_scenario.NaturalQAScenario2', args={}), split='test'), overlap_protocol_spec=OverlapProtocolSpec(N=13)): {'id1'}})"
      ]
     },
     "execution_count": 14,
     "metadata": {},
     "output_type": "execute_result"
    }
   ],
   "source": [
    "stats_key_to_input_ids"
   ]
  },
  {
   "cell_type": "code",
   "execution_count": 15,
   "id": "25fe577a",
   "metadata": {},
   "outputs": [
    {
     "data": {
      "text/plain": [
       "defaultdict(set,\n",
       "            {DataOverlapStatsKey(light_scenario_key=LightScenarioKey(scenario_spec=ScenarioSpec(class_name='helm.benchmark.scenarios.natural_qa_scenario.NaturalQAScenario2', args={}), split='test'), overlap_protocol_spec=OverlapProtocolSpec(N=5)): {'id1'},\n",
       "             DataOverlapStatsKey(light_scenario_key=LightScenarioKey(scenario_spec=ScenarioSpec(class_name='helm.benchmark.scenarios.natural_qa_scenario.NaturalQAScenario2', args={}), split='test'), overlap_protocol_spec=OverlapProtocolSpec(N=13)): {'id1'}})"
      ]
     },
     "execution_count": 15,
     "metadata": {},
     "output_type": "execute_result"
    }
   ],
   "source": [
    "stats_key_to_reference_ids"
   ]
  },
  {
   "cell_type": "code",
   "execution_count": null,
   "id": "156e3f8b",
   "metadata": {},
   "outputs": [],
   "source": []
  }
 ],
 "metadata": {
  "kernelspec": {
   "display_name": "venv",
   "language": "python",
   "name": "venv"
  },
  "language_info": {
   "codemirror_mode": {
    "name": "ipython",
    "version": 3
   },
   "file_extension": ".py",
   "mimetype": "text/x-python",
   "name": "python",
   "nbconvert_exporter": "python",
   "pygments_lexer": "ipython3",
   "version": "3.10.9"
  }
 },
 "nbformat": 4,
 "nbformat_minor": 5
}
