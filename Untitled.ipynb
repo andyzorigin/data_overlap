{
 "cells": [
  {
   "cell_type": "code",
   "execution_count": 12,
   "id": "0f19b5fd",
   "metadata": {},
   "outputs": [],
   "source": [
    "import json\n",
    "import os\n",
    "import glob\n",
    "\n",
    "from typing import List, Tuple, Set, DefaultDict\n",
    "from nltk import ngrams\n",
    "from typing import Dict\n",
    "from tqdm import tqdm\n",
    "from collections import defaultdict\n",
    "\n",
    "from light_scenario import LightInstance, LightScenario, LightScenarioKey\n",
    "from data_overlap_spec import (\n",
    "    DataOverlapStats,\n",
    "    DataOverlapStatsKey,\n",
    "    OverlapProtocolSpec,\n",
    "    EntryDataOverlapKey,\n",
    "    EntryOverlapNgrams,\n",
    ")\n",
    "from light_tokenizer import LightTokenizer\n",
    "from load_documents import get_document_iterator\n",
    "from common.hierarchical_logger import hlog, htrack_block\n",
    "from common.general import asdict_without_nones\n",
    "from common.arguments import get_data_overlap_args\n",
    "from common.util import get_tokenizer\n",
    "from scenarios.scenario import ScenarioSpec\n",
    "\n",
    "\n",
    "# The n values of the ngrams to be computed\n",
    "N_VALUES: List[int] = [5, 9, 13]  # TODO: Pick the N values\n",
    "\n",
    "PART_INPUT: str = \"input\"\n",
    "PART_REF: str = \"references\"\n",
    "\n",
    "\n",
    "# type alias for overlap-related data structures\n",
    "Ngram = Tuple[str, ...]\n",
    "NgramIndex = Dict[int, Dict[Ngram, Set[EntryDataOverlapKey]]]\n",
    "NgramCounter = Dict[EntryDataOverlapKey, Dict[Ngram, int]]\n",
    "\n",
    "\n",
    "def load_light_scenarios_from_jsonl(path: str) -> List[LightScenario]:\n",
    "    \"\"\"\n",
    "    Create a list of light scenarios from a jsonl file, where each json represents a LightScenario object.\n",
    "\n",
    "    Input file format:\n",
    "\n",
    "    Instance JSON 1\n",
    "    Instance JSON 2\n",
    "    Instance JSON 3\n",
    "    ...\n",
    "    \"\"\"\n",
    "\n",
    "    def create_light_instance_from_dict(instance_dict: dict) -> LightInstance:\n",
    "        return LightInstance(\n",
    "            input=instance_dict[PART_INPUT], references=instance_dict[PART_REF], id=instance_dict[\"id\"]\n",
    "        )\n",
    "\n",
    "    light_scenarios: List[LightScenario] = []\n",
    "    light_scenario_jsons = open(path, \"r\").readlines()\n",
    "    for light_scenario_json in light_scenario_jsons:\n",
    "        light_scenario_dict: dict = json.loads(light_scenario_json)\n",
    "\n",
    "        light_scenario_key_dict: dict = light_scenario_dict[\"scenario_key\"]\n",
    "        # if the light_scenarios are exported from helm, they will have a scenario_spec field\n",
    "        scenario_spec = ScenarioSpec(**light_scenario_key_dict[\"scenario_spec\"])\n",
    "        light_scenario_key = LightScenarioKey(scenario_spec=scenario_spec, split=light_scenario_key_dict[\"split\"])\n",
    "        light_instances: List[LightInstance] = [\n",
    "            create_light_instance_from_dict(instance_dict) for instance_dict in light_scenario_dict[\"instances\"]\n",
    "        ]\n",
    "        light_scenarios.append(LightScenario(scenario_key=light_scenario_key, instances=light_instances))\n",
    "    return light_scenarios\n"
   ]
  },
  {
   "cell_type": "code",
   "execution_count": 23,
   "id": "c3daa696",
   "metadata": {},
   "outputs": [],
   "source": [
    "path = './data/xa/xaa'\n",
    "path = 'scenario_data_new'\n",
    "# path = 'input.json'\n",
    "# light_scenario_jsons = open(path, \"r\").readlines()\n",
    "# print(light_scenario_jsons[0])\n",
    "# print('hi')\n",
    "light_scenarios = load_light_scenarios_from_jsonl(path)"
   ]
  },
  {
   "cell_type": "code",
   "execution_count": 24,
   "id": "889d8986",
   "metadata": {},
   "outputs": [],
   "source": [
    "light_scenario_dict = dict()\n",
    "for light_scenario in light_scenarios:\n",
    "    light_scenario_dict[light_scenario.scenario_key] = light_scenario"
   ]
  },
  {
   "cell_type": "code",
   "execution_count": 25,
   "id": "54eba685",
   "metadata": {},
   "outputs": [
    {
     "data": {
      "text/plain": [
       "LightInstance(input='Which of the following did the post-war welfare state of 1948 not aim to provide:', references=['free health care and education for all', 'a minimum wage', 'full employment', 'universal welfare'], id='id0')"
      ]
     },
     "execution_count": 25,
     "metadata": {},
     "output_type": "execute_result"
    }
   ],
   "source": [
    "light_scenarios[0].instances[0]"
   ]
  },
  {
   "cell_type": "code",
   "execution_count": 29,
   "id": "f7f4b4aa",
   "metadata": {},
   "outputs": [],
   "source": [
    "filtered_scenarios = []\n",
    "for light_scenario in light_scenarios:\n",
    "#     print(light_scenario.scenario_key)\n",
    "#     break\n",
    "    if light_scenario.scenario_key.scenario_spec.class_name == 'helm.benchmark.scenarios.legal_summarization_scenario.LegalSummarizationScenario':\n",
    "        filtered_scenarios.append(light_scenario)"
   ]
  },
  {
   "cell_type": "code",
   "execution_count": 33,
   "id": "373c2514",
   "metadata": {},
   "outputs": [],
   "source": [
    "scenario = filtered_scenarios[1]"
   ]
  },
  {
   "cell_type": "code",
   "execution_count": 36,
   "id": "4c257747",
   "metadata": {},
   "outputs": [],
   "source": [
    "filtered_instance = None\n",
    "for instance in scenario.instances:\n",
    "    if instance.id == 'id119':\n",
    "        filtered_instance = instance\n",
    "        break"
   ]
  },
  {
   "cell_type": "code",
   "execution_count": 38,
   "id": "df7e2080",
   "metadata": {},
   "outputs": [
    {
     "data": {
      "text/plain": [
       "['Online intermediation services — fairness and transparency for business users Online intermediation services — fairness and transparency for business users SUMMARY OF: Regulation (EU) 2019/1150 on promoting fairness and transparency for business users of online intermediation services WHAT IS THE AIM OF THE REGULATION? It aims to ensure the fair and transparent treatment of business users by online platforms, giving them more effective options for redress when they face problems, creating a predictable and innovation-friendly regulatory environment for online platforms within the EU. KEY POINTS Scope The regulation introduces new rules for online intermediation services* (online platforms) and online search engines that aim to connect EU businesses and professional websites with EU consumers. Online platforms cover a wide range of activities including: online marketplaces;social media and creative content outlets;application distribution platforms;price comparison websites;collaborative economy marketplaces, to the extent these host professional users; andonline general search engines. They share key characteristics including the use of information and communication technologies to facilitate interactions (including commercial transactions) between users, collection and use of data about these interactions, and network effects which make the use of the platforms with most users most valuable to other users. Terms and conditions Providers of online platforms must: ensure that their terms and conditions for professional users are easy to understand and easily available; spell out upfront the possible grounds for restricting, suspending or terminating their services; notify their professional users at least 15 days in advance of any modifications of their terms and conditions unless they are subject to a specific legal obligation or to address unforeseen and imminent cybersecurity risks — non-respect of this obligation would mean that any modifications are null and void; act in good faith by refraining from implementing retro-active changes to terms and conditions, by providing a termination right to their professional users and by describing whether they maintain any access to the data of their business users post-termination of their contract; explain whether they reserve any rights in respect of the intellectual property of their professional users or in terms of the platforms’ ability to market the goods or services of their professional users outside the relevant platform; provide professional users with a detailed statement of reasons for a restriction, suspension or termination of their services — in the case of overall termination, such a statement shall be provided 30 days in advance; ensure that the identity of its professional users is clearly visible. Terms and conditions must include: the main parameters determining ranking and the relative importance thereof relative to all other parameters — this description shall include any possibility to influence ranking against direct or indirect remuneration (in addition to online platforms, online search engines must also set out the main parameters determining ranking); if applicable, a description of any ancillary goods or services that the online platform may itself offer as a complement to the goods or services of its professional users; a description of any differentiated treatment given to goods and services they offer themselves (or by professional users they control), compared to the treatment they give to goods and services offered by other professional users (this obligation equally applies to online search engines); a description of the technical and contractual access of professional users to personal or other data that business users or consumers provide to online intermediation services or that are generated through the use of those services; if applicable, the legal, economic or commercial consideration for any restriction of the ability of professional users to offer their goods or services under different terms through other channels; information regarding the access and functioning of online platforms’ internal complaint-handling system as well as one or more mediators to whom business users can turn to attempt to solve any disputes with the relevant provider of the online platform. Complaints, mediation and redress Online platform providers employing more than 50 persons or achieving more than €10 million in annual turnover must establish and operate an internal system for handling complaints from professional users about non-compliance with a legal obligation laid down in the regulation, or any technological issues, measures taken or behaviour by providers that could affect business users. Complaints must be processed swiftly and effectively, and the outcome communicated individually, in plain and intelligible language. To inform oversight including by the Observatory on the Online Platform Economy, online platform providers have to publish statistics on the effectiveness of their internal complaint-handling systems. To further facilitate quick and effective dispute settlement, online platform providers must identify one or more mediators to whom business users can turn to attempt to solve any disputes with the relevant provider of the online platform. Enforcement Representative organisations and public bodies have a self-standing right to take action before national courts and to counter any non-compliance with the regulation by providers of online intermediation services and search engines. EU countries will in addition provide effective public enforcement mechanisms. Review The Observatory on the Online Platform Economy will assist the Commission in monitoring the impact of the new rules as well as emerging issues and opportunities in the digital economy. By 13 January 2022, the Commission will assess whether additional or different rules may be needed as part of the foreseen review of the regulation. FROM WHEN DOES THE REGULATION APPLY? It applies from 12 July 2020. BACKGROUND For more information, see: Online platforms (European Commission) Expert group to the EU Observatory on the Online Platform Economy (European Commission). KEY TERMS Online intermediation services: online platforms — information society services that allow business users to offer goods or services to consumers, with a view to facilitating the initiating of direct transactions between those business users and consumers; they are provided to business users on the basis of contractual relationships between the provider of those services and business users offering goods or services to consumers. MAIN DOCUMENT Regulation (EU) 2019/1150 of the European Parliament and of the Council of 20 June 2019 on promoting fairness and transparency for business users of online intermediation services (OJ L 186, 11.7.2019, pp. 57-79) RELATED DOCUMENTS Directive (EU) 2016/943 of the European Parliament and of the Council of 8 June 2016 on the protection of undisclosed know-how and business information (trade secrets) against their unlawful acquisition, use and disclosure (OJ L 157, 15.6.2016, pp. 1-18) Directive (EU) 2016/680 of the European Parliament and of the Council of 27 April 2016 on the protection of natural persons with regard to the processing of personal data by competent authorities for the purposes of the prevention, investigation, detection or prosecution of criminal offences or the execution of criminal penalties, and on the free movement of such data, and repealing Council Framework Decision 2008/977/JHA (OJ L 119, 4.5.2016, pp. 89-131) Successive amendments to Directive (EU) 2016/680 have been incorporated into the original text. This consolidated version is of documentary value only. Directive (EU) 2015/1535 of the European Parliament and of the Council of 9 September 2015 laying down a procedure for the provision of information in the field of technical regulations and of rules on information society services (OJ L 241, 17.9.2015, pp. 1-15) Regulation (EU) No 1215/2012 of the European Parliament and of the Council of 12 December 2012 on jurisdiction and the recognition and enforcement of judgments in civil and commercial matters (OJ L 351, 20.12.2012, pp. 1-32) See consolidated version. Regulation (EC) No 593/2008 of the European Parliament and of the Council of 17 June 2008 on the law applicable to contractual obligations (Rome I) (OJ L 177, 4.7.2008, pp. 6-16) See consolidated version. Directive 2008/52/EC of the European Parliament and of the Council of 21 May 2008 on certain aspects of mediation in civil and commercial matters (OJ L 136, 24.5.2008, pp. 3-8) last update 19.08.2019']"
      ]
     },
     "execution_count": 38,
     "metadata": {},
     "output_type": "execute_result"
    }
   ],
   "source": [
    "filtered_instance.references"
   ]
  },
  {
   "cell_type": "code",
   "execution_count": null,
   "id": "554b1719",
   "metadata": {},
   "outputs": [],
   "source": []
  }
 ],
 "metadata": {
  "kernelspec": {
   "display_name": "venv",
   "language": "python",
   "name": "venv"
  },
  "language_info": {
   "codemirror_mode": {
    "name": "ipython",
    "version": 3
   },
   "file_extension": ".py",
   "mimetype": "text/x-python",
   "name": "python",
   "nbconvert_exporter": "python",
   "pygments_lexer": "ipython3",
   "version": "3.10.9"
  }
 },
 "nbformat": 4,
 "nbformat_minor": 5
}
