{
 "cells": [
  {
   "cell_type": "code",
   "execution_count": 1,
   "id": "8295ccf2",
   "metadata": {},
   "outputs": [],
   "source": [
    "from typing import List\n",
    "\n",
    "from compute_data_overlap_metrics import (\n",
    "    get_all_data_overlap_stats,\n",
    "    # create_all_data_overlap_stats,\n",
    "    create_ngram_index,\n",
    "    EntryDataOverlapKey,\n",
    "    Ngram,\n",
    "    NgramIndex,\n",
    "    # AllDataOverlapStats,\n",
    ")\n",
    "from light_scenario import LightScenario, LightInstance, LightScenarioKey\n",
    "from light_tokenizer import LightTokenizer, DefaultTokenizer\n",
    "from data_overlap_stats import (\n",
    "    DataOverlapStats,\n",
    "    DataOverlapStatsKey,\n",
    "    PART_INPUT,\n",
    "    PART_REF,\n",
    ")\n",
    "from common.general import asdict_without_nones\n",
    "from scenarios.scenario import ScenarioSpec\n",
    "\n",
    "N_VALUES = [5, 13]\n",
    "\n",
    "TEST_DOCUMENT: str = (\n",
    "    \"The Center for Research on Foundation Models (CRFM) is \"\n",
    "    \"an interdisciplinary initiative born out of the Stanford \"\n",
    "    \"Institute for Human-Centered Artificial Intelligence (HAI) \"\n",
    "    \"that aims to make fundamental advances in the study, development, \"\n",
    "    \"and deployment of foundation models.\"\n",
    ")\n",
    "\n",
    "TEST_TOKENS_SPLIT_BY_SPACE: List[str] = [\n",
    "    \"The\",\n",
    "    \"Center\",\n",
    "    \"for\",\n",
    "    \"Research\",\n",
    "    \"on\",\n",
    "    \"Foundation\",\n",
    "    \"Models\",\n",
    "    \"(CRFM)\",\n",
    "    \"is\",\n",
    "    \"an\",\n",
    "    \"interdisciplinary\",\n",
    "    \"initiative\",\n",
    "    \"born\",\n",
    "    \"out\",\n",
    "    \"of\",\n",
    "    \"the\",\n",
    "    \"Stanford\",\n",
    "    \"Institute\",\n",
    "    \"for\",\n",
    "    \"Human-Centered\",\n",
    "    \"Artificial\",\n",
    "    \"Intelligence\",\n",
    "    \"(HAI)\",\n",
    "    \"that\",\n",
    "    \"aims\",\n",
    "    \"to\",\n",
    "    \"make\",\n",
    "    \"fundamental\",\n",
    "    \"advances\",\n",
    "    \"in\",\n",
    "    \"the\",\n",
    "    \"study,\",\n",
    "    \"development,\",\n",
    "    \"and\",\n",
    "    \"deployment\",\n",
    "    \"of\",\n",
    "    \"foundation\",\n",
    "    \"models.\",\n",
    "]\n",
    "\n",
    "TEST_TOKENS_BY_DEFAULT_TOKENIZER: List[str] = [\n",
    "    \"the\",\n",
    "    \"center\",\n",
    "    \"for\",\n",
    "    \"research\",\n",
    "    \"on\",\n",
    "    \"foundation\",\n",
    "    \"models\",\n",
    "    \"crfm\",\n",
    "    \"is\",\n",
    "    \"an\",\n",
    "    \"interdisciplinary\",\n",
    "    \"initiative\",\n",
    "    \"born\",\n",
    "    \"out\",\n",
    "    \"of\",\n",
    "    \"the\",\n",
    "    \"stanford\",\n",
    "    \"institute\",\n",
    "    \"for\",\n",
    "    \"human\",\n",
    "    \"centered\",\n",
    "    \"artificial\",\n",
    "    \"intelligence\",\n",
    "    \"hai\",\n",
    "    \"that\",\n",
    "    \"aims\",\n",
    "    \"to\",\n",
    "    \"make\",\n",
    "    \"fundamental\",\n",
    "    \"advances\",\n",
    "    \"in\",\n",
    "    \"the\",\n",
    "    \"study\",\n",
    "    \"development\",\n",
    "    \"and\",\n",
    "    \"deployment\",\n",
    "    \"of\",\n",
    "    \"foundation\",\n",
    "    \"models\",\n",
    "    \"\",\n",
    "]\n",
    "\n",
    "TEST_SCENARIO_1 = LightScenario(\n",
    "    scenario_key=LightScenarioKey(scenario_spec=ScenarioSpec(class_name=\"helm.benchmark.scenarios.natural_qa_scenario.NaturalQAScenario\", args={}), split=\"test\"),\n",
    "    instances=[\n",
    "        LightInstance(input=\"Center for Research on Foundation\", references=[\"bar\", \"baz\"], id=\"id1\"),\n",
    "        LightInstance(input=\"bar bar\", references=[\"foo\", \"baz\"], id=\"id2\"),\n",
    "    ],\n",
    ")\n",
    "TEST_SCENARIO_2 = LightScenario(\n",
    "    scenario_key=LightScenarioKey(scenario_spec=ScenarioSpec(class_name=\"helm.benchmark.scenarios.natural_qa_scenario.NaturalQAScenario\", args={}), split=\"test\"),\n",
    "    instances=[LightInstance(input=TEST_DOCUMENT, references=[TEST_DOCUMENT, TEST_DOCUMENT], id=\"id1\")],\n",
    ")\n",
    "\n",
    "from typing import List\n",
    "\n",
    "from compute_data_overlap_metrics import (\n",
    "    get_all_data_overlap_stats,\n",
    "    create_ngram_index,\n",
    "    EntryDataOverlapKey,\n",
    "    Ngram,\n",
    "    NgramIndex,\n",
    ")\n",
    "from data_overlap_spec import OutputDataOverlapStats, OutputDataOverlapStatsKey, OverlapProtocolSpec\n",
    "from light_scenario import LightScenario, LightInstance, LightScenarioKey\n",
    "from light_tokenizer import LightTokenizer, DefaultTokenizer\n",
    "from data_overlap_stats import (\n",
    "    DataOverlapStatsKey,\n",
    "    PART_INPUT,\n",
    "    PART_REF,\n",
    ")\n",
    "from common.general import asdict_without_nones\n",
    "from scenarios.scenario import ScenarioSpec\n",
    "\n"
   ]
  },
  {
   "cell_type": "code",
   "execution_count": 2,
   "id": "e9dcf585",
   "metadata": {},
   "outputs": [
    {
     "name": "stdout",
     "output_type": "stream",
     "text": [
      "Building ngram indexes for LightScenarioKey(scenario_spec=ScenarioSpec(class_name='helm.benchmark.scenarios.natural_qa_scenario.NaturalQAScenario', args={}), split='test')\n",
      "Building ngram indexes for LightScenarioKey(scenario_spec=ScenarioSpec(class_name='helm.benchmark.scenarios.natural_qa_scenario.NaturalQAScenario', args={}), split='test')\n"
     ]
    }
   ],
   "source": [
    "tokenizer = LightTokenizer()\n",
    "scenarios = [TEST_SCENARIO_1, TEST_SCENARIO_2]\n",
    "# all_overlap_stats: AllDataOverlapStats\n",
    "ngram_index: NgramIndex\n",
    "# all_overlap_stats = create_all_data_overlap_stats(light_scenarios=scenarios, n_values=N_VALUES)\n",
    "ngram_index = create_ngram_index(light_scenarios=scenarios, n_values=N_VALUES, tokenizer=tokenizer)\n",
    "\n",
    "all_data_overlap_stats = get_all_data_overlap_stats(\n",
    "    ngram_index=ngram_index\n",
    ")\n"
   ]
  },
  {
   "cell_type": "code",
   "execution_count": 3,
   "id": "1db9e96f",
   "metadata": {},
   "outputs": [
    {
     "name": "stdout",
     "output_type": "stream",
     "text": [
      "[OutputDataOverlapStats(output_data_overlap_stats_key=OutputDataOverlapStatsKey(light_scenario_key=LightScenarioKey(scenario_spec=ScenarioSpec(class_name='helm.benchmark.scenarios.natural_qa_scenario.NaturalQAScenario', args={}), split='test'), overlap_protocol_spec=OverlapProtocolSpec(N=5)), instance_ids_with_overlapping_input=['id1'], instance_ids_with_overlapping_reference=['id1']), OutputDataOverlapStats(output_data_overlap_stats_key=OutputDataOverlapStatsKey(light_scenario_key=LightScenarioKey(scenario_spec=ScenarioSpec(class_name='helm.benchmark.scenarios.natural_qa_scenario.NaturalQAScenario', args={}), split='test'), overlap_protocol_spec=OverlapProtocolSpec(N=13)), instance_ids_with_overlapping_input=['id1'], instance_ids_with_overlapping_reference=['id1'])]\n"
     ]
    }
   ],
   "source": [
    "print(all_data_overlap_stats)"
   ]
  },
  {
   "cell_type": "code",
   "execution_count": 4,
   "id": "2048a6cb",
   "metadata": {},
   "outputs": [
    {
     "data": {
      "text/plain": [
       "{('Center',\n",
       "  'for',\n",
       "  'Research',\n",
       "  'on',\n",
       "  'Foundation'): {EntryDataOverlapKey(stats_key=DataOverlapStatsKey(metadata={'light_scenario_key': LightScenarioKey(scenario_spec=ScenarioSpec(class_name='helm.benchmark.scenarios.natural_qa_scenario.NaturalQAScenario', args={}), split='test'), 'N': 5}), part='input', instance_id='id1', index=0), EntryDataOverlapKey(stats_key=DataOverlapStatsKey(metadata={'light_scenario_key': LightScenarioKey(scenario_spec=ScenarioSpec(class_name='helm.benchmark.scenarios.natural_qa_scenario.NaturalQAScenario', args={}), split='test'), 'N': 5}), part='reference', instance_id='id1', index=0)},\n",
       " ('The',\n",
       "  'Center',\n",
       "  'for',\n",
       "  'Research',\n",
       "  'on'): {EntryDataOverlapKey(stats_key=DataOverlapStatsKey(metadata={'light_scenario_key': LightScenarioKey(scenario_spec=ScenarioSpec(class_name='helm.benchmark.scenarios.natural_qa_scenario.NaturalQAScenario', args={}), split='test'), 'N': 5}), part='input', instance_id='id1', index=0), EntryDataOverlapKey(stats_key=DataOverlapStatsKey(metadata={'light_scenario_key': LightScenarioKey(scenario_spec=ScenarioSpec(class_name='helm.benchmark.scenarios.natural_qa_scenario.NaturalQAScenario', args={}), split='test'), 'N': 5}), part='reference', instance_id='id1', index=0)},\n",
       " ('for',\n",
       "  'Research',\n",
       "  'on',\n",
       "  'Foundation',\n",
       "  'Models'): {EntryDataOverlapKey(stats_key=DataOverlapStatsKey(metadata={'light_scenario_key': LightScenarioKey(scenario_spec=ScenarioSpec(class_name='helm.benchmark.scenarios.natural_qa_scenario.NaturalQAScenario', args={}), split='test'), 'N': 5}), part='input', instance_id='id1', index=0), EntryDataOverlapKey(stats_key=DataOverlapStatsKey(metadata={'light_scenario_key': LightScenarioKey(scenario_spec=ScenarioSpec(class_name='helm.benchmark.scenarios.natural_qa_scenario.NaturalQAScenario', args={}), split='test'), 'N': 5}), part='reference', instance_id='id1', index=0)},\n",
       " ('Research',\n",
       "  'on',\n",
       "  'Foundation',\n",
       "  'Models',\n",
       "  '(CRFM)'): {EntryDataOverlapKey(stats_key=DataOverlapStatsKey(metadata={'light_scenario_key': LightScenarioKey(scenario_spec=ScenarioSpec(class_name='helm.benchmark.scenarios.natural_qa_scenario.NaturalQAScenario', args={}), split='test'), 'N': 5}), part='input', instance_id='id1', index=0), EntryDataOverlapKey(stats_key=DataOverlapStatsKey(metadata={'light_scenario_key': LightScenarioKey(scenario_spec=ScenarioSpec(class_name='helm.benchmark.scenarios.natural_qa_scenario.NaturalQAScenario', args={}), split='test'), 'N': 5}), part='reference', instance_id='id1', index=0)},\n",
       " ('on',\n",
       "  'Foundation',\n",
       "  'Models',\n",
       "  '(CRFM)',\n",
       "  'is'): {EntryDataOverlapKey(stats_key=DataOverlapStatsKey(metadata={'light_scenario_key': LightScenarioKey(scenario_spec=ScenarioSpec(class_name='helm.benchmark.scenarios.natural_qa_scenario.NaturalQAScenario', args={}), split='test'), 'N': 5}), part='input', instance_id='id1', index=0), EntryDataOverlapKey(stats_key=DataOverlapStatsKey(metadata={'light_scenario_key': LightScenarioKey(scenario_spec=ScenarioSpec(class_name='helm.benchmark.scenarios.natural_qa_scenario.NaturalQAScenario', args={}), split='test'), 'N': 5}), part='reference', instance_id='id1', index=0)},\n",
       " ('Foundation',\n",
       "  'Models',\n",
       "  '(CRFM)',\n",
       "  'is',\n",
       "  'an'): {EntryDataOverlapKey(stats_key=DataOverlapStatsKey(metadata={'light_scenario_key': LightScenarioKey(scenario_spec=ScenarioSpec(class_name='helm.benchmark.scenarios.natural_qa_scenario.NaturalQAScenario', args={}), split='test'), 'N': 5}), part='input', instance_id='id1', index=0), EntryDataOverlapKey(stats_key=DataOverlapStatsKey(metadata={'light_scenario_key': LightScenarioKey(scenario_spec=ScenarioSpec(class_name='helm.benchmark.scenarios.natural_qa_scenario.NaturalQAScenario', args={}), split='test'), 'N': 5}), part='reference', instance_id='id1', index=0)},\n",
       " ('Models',\n",
       "  '(CRFM)',\n",
       "  'is',\n",
       "  'an',\n",
       "  'interdisciplinary'): {EntryDataOverlapKey(stats_key=DataOverlapStatsKey(metadata={'light_scenario_key': LightScenarioKey(scenario_spec=ScenarioSpec(class_name='helm.benchmark.scenarios.natural_qa_scenario.NaturalQAScenario', args={}), split='test'), 'N': 5}), part='input', instance_id='id1', index=0), EntryDataOverlapKey(stats_key=DataOverlapStatsKey(metadata={'light_scenario_key': LightScenarioKey(scenario_spec=ScenarioSpec(class_name='helm.benchmark.scenarios.natural_qa_scenario.NaturalQAScenario', args={}), split='test'), 'N': 5}), part='reference', instance_id='id1', index=0)},\n",
       " ('(CRFM)',\n",
       "  'is',\n",
       "  'an',\n",
       "  'interdisciplinary',\n",
       "  'initiative'): {EntryDataOverlapKey(stats_key=DataOverlapStatsKey(metadata={'light_scenario_key': LightScenarioKey(scenario_spec=ScenarioSpec(class_name='helm.benchmark.scenarios.natural_qa_scenario.NaturalQAScenario', args={}), split='test'), 'N': 5}), part='input', instance_id='id1', index=0), EntryDataOverlapKey(stats_key=DataOverlapStatsKey(metadata={'light_scenario_key': LightScenarioKey(scenario_spec=ScenarioSpec(class_name='helm.benchmark.scenarios.natural_qa_scenario.NaturalQAScenario', args={}), split='test'), 'N': 5}), part='reference', instance_id='id1', index=0)},\n",
       " ('is',\n",
       "  'an',\n",
       "  'interdisciplinary',\n",
       "  'initiative',\n",
       "  'born'): {EntryDataOverlapKey(stats_key=DataOverlapStatsKey(metadata={'light_scenario_key': LightScenarioKey(scenario_spec=ScenarioSpec(class_name='helm.benchmark.scenarios.natural_qa_scenario.NaturalQAScenario', args={}), split='test'), 'N': 5}), part='input', instance_id='id1', index=0), EntryDataOverlapKey(stats_key=DataOverlapStatsKey(metadata={'light_scenario_key': LightScenarioKey(scenario_spec=ScenarioSpec(class_name='helm.benchmark.scenarios.natural_qa_scenario.NaturalQAScenario', args={}), split='test'), 'N': 5}), part='reference', instance_id='id1', index=0)},\n",
       " ('an',\n",
       "  'interdisciplinary',\n",
       "  'initiative',\n",
       "  'born',\n",
       "  'out'): {EntryDataOverlapKey(stats_key=DataOverlapStatsKey(metadata={'light_scenario_key': LightScenarioKey(scenario_spec=ScenarioSpec(class_name='helm.benchmark.scenarios.natural_qa_scenario.NaturalQAScenario', args={}), split='test'), 'N': 5}), part='input', instance_id='id1', index=0), EntryDataOverlapKey(stats_key=DataOverlapStatsKey(metadata={'light_scenario_key': LightScenarioKey(scenario_spec=ScenarioSpec(class_name='helm.benchmark.scenarios.natural_qa_scenario.NaturalQAScenario', args={}), split='test'), 'N': 5}), part='reference', instance_id='id1', index=0)},\n",
       " ('interdisciplinary',\n",
       "  'initiative',\n",
       "  'born',\n",
       "  'out',\n",
       "  'of'): {EntryDataOverlapKey(stats_key=DataOverlapStatsKey(metadata={'light_scenario_key': LightScenarioKey(scenario_spec=ScenarioSpec(class_name='helm.benchmark.scenarios.natural_qa_scenario.NaturalQAScenario', args={}), split='test'), 'N': 5}), part='input', instance_id='id1', index=0), EntryDataOverlapKey(stats_key=DataOverlapStatsKey(metadata={'light_scenario_key': LightScenarioKey(scenario_spec=ScenarioSpec(class_name='helm.benchmark.scenarios.natural_qa_scenario.NaturalQAScenario', args={}), split='test'), 'N': 5}), part='reference', instance_id='id1', index=0)},\n",
       " ('initiative',\n",
       "  'born',\n",
       "  'out',\n",
       "  'of',\n",
       "  'the'): {EntryDataOverlapKey(stats_key=DataOverlapStatsKey(metadata={'light_scenario_key': LightScenarioKey(scenario_spec=ScenarioSpec(class_name='helm.benchmark.scenarios.natural_qa_scenario.NaturalQAScenario', args={}), split='test'), 'N': 5}), part='input', instance_id='id1', index=0), EntryDataOverlapKey(stats_key=DataOverlapStatsKey(metadata={'light_scenario_key': LightScenarioKey(scenario_spec=ScenarioSpec(class_name='helm.benchmark.scenarios.natural_qa_scenario.NaturalQAScenario', args={}), split='test'), 'N': 5}), part='reference', instance_id='id1', index=0)},\n",
       " ('born',\n",
       "  'out',\n",
       "  'of',\n",
       "  'the',\n",
       "  'Stanford'): {EntryDataOverlapKey(stats_key=DataOverlapStatsKey(metadata={'light_scenario_key': LightScenarioKey(scenario_spec=ScenarioSpec(class_name='helm.benchmark.scenarios.natural_qa_scenario.NaturalQAScenario', args={}), split='test'), 'N': 5}), part='input', instance_id='id1', index=0), EntryDataOverlapKey(stats_key=DataOverlapStatsKey(metadata={'light_scenario_key': LightScenarioKey(scenario_spec=ScenarioSpec(class_name='helm.benchmark.scenarios.natural_qa_scenario.NaturalQAScenario', args={}), split='test'), 'N': 5}), part='reference', instance_id='id1', index=0)},\n",
       " ('out',\n",
       "  'of',\n",
       "  'the',\n",
       "  'Stanford',\n",
       "  'Institute'): {EntryDataOverlapKey(stats_key=DataOverlapStatsKey(metadata={'light_scenario_key': LightScenarioKey(scenario_spec=ScenarioSpec(class_name='helm.benchmark.scenarios.natural_qa_scenario.NaturalQAScenario', args={}), split='test'), 'N': 5}), part='input', instance_id='id1', index=0), EntryDataOverlapKey(stats_key=DataOverlapStatsKey(metadata={'light_scenario_key': LightScenarioKey(scenario_spec=ScenarioSpec(class_name='helm.benchmark.scenarios.natural_qa_scenario.NaturalQAScenario', args={}), split='test'), 'N': 5}), part='reference', instance_id='id1', index=0)},\n",
       " ('of',\n",
       "  'the',\n",
       "  'Stanford',\n",
       "  'Institute',\n",
       "  'for'): {EntryDataOverlapKey(stats_key=DataOverlapStatsKey(metadata={'light_scenario_key': LightScenarioKey(scenario_spec=ScenarioSpec(class_name='helm.benchmark.scenarios.natural_qa_scenario.NaturalQAScenario', args={}), split='test'), 'N': 5}), part='input', instance_id='id1', index=0), EntryDataOverlapKey(stats_key=DataOverlapStatsKey(metadata={'light_scenario_key': LightScenarioKey(scenario_spec=ScenarioSpec(class_name='helm.benchmark.scenarios.natural_qa_scenario.NaturalQAScenario', args={}), split='test'), 'N': 5}), part='reference', instance_id='id1', index=0)},\n",
       " ('the',\n",
       "  'Stanford',\n",
       "  'Institute',\n",
       "  'for',\n",
       "  'Human-Centered'): {EntryDataOverlapKey(stats_key=DataOverlapStatsKey(metadata={'light_scenario_key': LightScenarioKey(scenario_spec=ScenarioSpec(class_name='helm.benchmark.scenarios.natural_qa_scenario.NaturalQAScenario', args={}), split='test'), 'N': 5}), part='input', instance_id='id1', index=0), EntryDataOverlapKey(stats_key=DataOverlapStatsKey(metadata={'light_scenario_key': LightScenarioKey(scenario_spec=ScenarioSpec(class_name='helm.benchmark.scenarios.natural_qa_scenario.NaturalQAScenario', args={}), split='test'), 'N': 5}), part='reference', instance_id='id1', index=0)},\n",
       " ('Stanford',\n",
       "  'Institute',\n",
       "  'for',\n",
       "  'Human-Centered',\n",
       "  'Artificial'): {EntryDataOverlapKey(stats_key=DataOverlapStatsKey(metadata={'light_scenario_key': LightScenarioKey(scenario_spec=ScenarioSpec(class_name='helm.benchmark.scenarios.natural_qa_scenario.NaturalQAScenario', args={}), split='test'), 'N': 5}), part='input', instance_id='id1', index=0), EntryDataOverlapKey(stats_key=DataOverlapStatsKey(metadata={'light_scenario_key': LightScenarioKey(scenario_spec=ScenarioSpec(class_name='helm.benchmark.scenarios.natural_qa_scenario.NaturalQAScenario', args={}), split='test'), 'N': 5}), part='reference', instance_id='id1', index=0)},\n",
       " ('Institute',\n",
       "  'for',\n",
       "  'Human-Centered',\n",
       "  'Artificial',\n",
       "  'Intelligence'): {EntryDataOverlapKey(stats_key=DataOverlapStatsKey(metadata={'light_scenario_key': LightScenarioKey(scenario_spec=ScenarioSpec(class_name='helm.benchmark.scenarios.natural_qa_scenario.NaturalQAScenario', args={}), split='test'), 'N': 5}), part='input', instance_id='id1', index=0), EntryDataOverlapKey(stats_key=DataOverlapStatsKey(metadata={'light_scenario_key': LightScenarioKey(scenario_spec=ScenarioSpec(class_name='helm.benchmark.scenarios.natural_qa_scenario.NaturalQAScenario', args={}), split='test'), 'N': 5}), part='reference', instance_id='id1', index=0)},\n",
       " ('for',\n",
       "  'Human-Centered',\n",
       "  'Artificial',\n",
       "  'Intelligence',\n",
       "  '(HAI)'): {EntryDataOverlapKey(stats_key=DataOverlapStatsKey(metadata={'light_scenario_key': LightScenarioKey(scenario_spec=ScenarioSpec(class_name='helm.benchmark.scenarios.natural_qa_scenario.NaturalQAScenario', args={}), split='test'), 'N': 5}), part='input', instance_id='id1', index=0), EntryDataOverlapKey(stats_key=DataOverlapStatsKey(metadata={'light_scenario_key': LightScenarioKey(scenario_spec=ScenarioSpec(class_name='helm.benchmark.scenarios.natural_qa_scenario.NaturalQAScenario', args={}), split='test'), 'N': 5}), part='reference', instance_id='id1', index=0)},\n",
       " ('Human-Centered',\n",
       "  'Artificial',\n",
       "  'Intelligence',\n",
       "  '(HAI)',\n",
       "  'that'): {EntryDataOverlapKey(stats_key=DataOverlapStatsKey(metadata={'light_scenario_key': LightScenarioKey(scenario_spec=ScenarioSpec(class_name='helm.benchmark.scenarios.natural_qa_scenario.NaturalQAScenario', args={}), split='test'), 'N': 5}), part='input', instance_id='id1', index=0), EntryDataOverlapKey(stats_key=DataOverlapStatsKey(metadata={'light_scenario_key': LightScenarioKey(scenario_spec=ScenarioSpec(class_name='helm.benchmark.scenarios.natural_qa_scenario.NaturalQAScenario', args={}), split='test'), 'N': 5}), part='reference', instance_id='id1', index=0)},\n",
       " ('Artificial',\n",
       "  'Intelligence',\n",
       "  '(HAI)',\n",
       "  'that',\n",
       "  'aims'): {EntryDataOverlapKey(stats_key=DataOverlapStatsKey(metadata={'light_scenario_key': LightScenarioKey(scenario_spec=ScenarioSpec(class_name='helm.benchmark.scenarios.natural_qa_scenario.NaturalQAScenario', args={}), split='test'), 'N': 5}), part='input', instance_id='id1', index=0), EntryDataOverlapKey(stats_key=DataOverlapStatsKey(metadata={'light_scenario_key': LightScenarioKey(scenario_spec=ScenarioSpec(class_name='helm.benchmark.scenarios.natural_qa_scenario.NaturalQAScenario', args={}), split='test'), 'N': 5}), part='reference', instance_id='id1', index=0)},\n",
       " ('Intelligence',\n",
       "  '(HAI)',\n",
       "  'that',\n",
       "  'aims',\n",
       "  'to'): {EntryDataOverlapKey(stats_key=DataOverlapStatsKey(metadata={'light_scenario_key': LightScenarioKey(scenario_spec=ScenarioSpec(class_name='helm.benchmark.scenarios.natural_qa_scenario.NaturalQAScenario', args={}), split='test'), 'N': 5}), part='input', instance_id='id1', index=0), EntryDataOverlapKey(stats_key=DataOverlapStatsKey(metadata={'light_scenario_key': LightScenarioKey(scenario_spec=ScenarioSpec(class_name='helm.benchmark.scenarios.natural_qa_scenario.NaturalQAScenario', args={}), split='test'), 'N': 5}), part='reference', instance_id='id1', index=0)},\n",
       " ('(HAI)',\n",
       "  'that',\n",
       "  'aims',\n",
       "  'to',\n",
       "  'make'): {EntryDataOverlapKey(stats_key=DataOverlapStatsKey(metadata={'light_scenario_key': LightScenarioKey(scenario_spec=ScenarioSpec(class_name='helm.benchmark.scenarios.natural_qa_scenario.NaturalQAScenario', args={}), split='test'), 'N': 5}), part='input', instance_id='id1', index=0), EntryDataOverlapKey(stats_key=DataOverlapStatsKey(metadata={'light_scenario_key': LightScenarioKey(scenario_spec=ScenarioSpec(class_name='helm.benchmark.scenarios.natural_qa_scenario.NaturalQAScenario', args={}), split='test'), 'N': 5}), part='reference', instance_id='id1', index=0)},\n",
       " ('that',\n",
       "  'aims',\n",
       "  'to',\n",
       "  'make',\n",
       "  'fundamental'): {EntryDataOverlapKey(stats_key=DataOverlapStatsKey(metadata={'light_scenario_key': LightScenarioKey(scenario_spec=ScenarioSpec(class_name='helm.benchmark.scenarios.natural_qa_scenario.NaturalQAScenario', args={}), split='test'), 'N': 5}), part='input', instance_id='id1', index=0), EntryDataOverlapKey(stats_key=DataOverlapStatsKey(metadata={'light_scenario_key': LightScenarioKey(scenario_spec=ScenarioSpec(class_name='helm.benchmark.scenarios.natural_qa_scenario.NaturalQAScenario', args={}), split='test'), 'N': 5}), part='reference', instance_id='id1', index=0)},\n",
       " ('aims',\n",
       "  'to',\n",
       "  'make',\n",
       "  'fundamental',\n",
       "  'advances'): {EntryDataOverlapKey(stats_key=DataOverlapStatsKey(metadata={'light_scenario_key': LightScenarioKey(scenario_spec=ScenarioSpec(class_name='helm.benchmark.scenarios.natural_qa_scenario.NaturalQAScenario', args={}), split='test'), 'N': 5}), part='input', instance_id='id1', index=0), EntryDataOverlapKey(stats_key=DataOverlapStatsKey(metadata={'light_scenario_key': LightScenarioKey(scenario_spec=ScenarioSpec(class_name='helm.benchmark.scenarios.natural_qa_scenario.NaturalQAScenario', args={}), split='test'), 'N': 5}), part='reference', instance_id='id1', index=0)},\n",
       " ('to',\n",
       "  'make',\n",
       "  'fundamental',\n",
       "  'advances',\n",
       "  'in'): {EntryDataOverlapKey(stats_key=DataOverlapStatsKey(metadata={'light_scenario_key': LightScenarioKey(scenario_spec=ScenarioSpec(class_name='helm.benchmark.scenarios.natural_qa_scenario.NaturalQAScenario', args={}), split='test'), 'N': 5}), part='input', instance_id='id1', index=0), EntryDataOverlapKey(stats_key=DataOverlapStatsKey(metadata={'light_scenario_key': LightScenarioKey(scenario_spec=ScenarioSpec(class_name='helm.benchmark.scenarios.natural_qa_scenario.NaturalQAScenario', args={}), split='test'), 'N': 5}), part='reference', instance_id='id1', index=0)},\n",
       " ('make',\n",
       "  'fundamental',\n",
       "  'advances',\n",
       "  'in',\n",
       "  'the'): {EntryDataOverlapKey(stats_key=DataOverlapStatsKey(metadata={'light_scenario_key': LightScenarioKey(scenario_spec=ScenarioSpec(class_name='helm.benchmark.scenarios.natural_qa_scenario.NaturalQAScenario', args={}), split='test'), 'N': 5}), part='input', instance_id='id1', index=0), EntryDataOverlapKey(stats_key=DataOverlapStatsKey(metadata={'light_scenario_key': LightScenarioKey(scenario_spec=ScenarioSpec(class_name='helm.benchmark.scenarios.natural_qa_scenario.NaturalQAScenario', args={}), split='test'), 'N': 5}), part='reference', instance_id='id1', index=0)},\n",
       " ('fundamental',\n",
       "  'advances',\n",
       "  'in',\n",
       "  'the',\n",
       "  'study,'): {EntryDataOverlapKey(stats_key=DataOverlapStatsKey(metadata={'light_scenario_key': LightScenarioKey(scenario_spec=ScenarioSpec(class_name='helm.benchmark.scenarios.natural_qa_scenario.NaturalQAScenario', args={}), split='test'), 'N': 5}), part='input', instance_id='id1', index=0), EntryDataOverlapKey(stats_key=DataOverlapStatsKey(metadata={'light_scenario_key': LightScenarioKey(scenario_spec=ScenarioSpec(class_name='helm.benchmark.scenarios.natural_qa_scenario.NaturalQAScenario', args={}), split='test'), 'N': 5}), part='reference', instance_id='id1', index=0)},\n",
       " ('advances',\n",
       "  'in',\n",
       "  'the',\n",
       "  'study,',\n",
       "  'development,'): {EntryDataOverlapKey(stats_key=DataOverlapStatsKey(metadata={'light_scenario_key': LightScenarioKey(scenario_spec=ScenarioSpec(class_name='helm.benchmark.scenarios.natural_qa_scenario.NaturalQAScenario', args={}), split='test'), 'N': 5}), part='input', instance_id='id1', index=0), EntryDataOverlapKey(stats_key=DataOverlapStatsKey(metadata={'light_scenario_key': LightScenarioKey(scenario_spec=ScenarioSpec(class_name='helm.benchmark.scenarios.natural_qa_scenario.NaturalQAScenario', args={}), split='test'), 'N': 5}), part='reference', instance_id='id1', index=0)},\n",
       " ('in',\n",
       "  'the',\n",
       "  'study,',\n",
       "  'development,',\n",
       "  'and'): {EntryDataOverlapKey(stats_key=DataOverlapStatsKey(metadata={'light_scenario_key': LightScenarioKey(scenario_spec=ScenarioSpec(class_name='helm.benchmark.scenarios.natural_qa_scenario.NaturalQAScenario', args={}), split='test'), 'N': 5}), part='input', instance_id='id1', index=0), EntryDataOverlapKey(stats_key=DataOverlapStatsKey(metadata={'light_scenario_key': LightScenarioKey(scenario_spec=ScenarioSpec(class_name='helm.benchmark.scenarios.natural_qa_scenario.NaturalQAScenario', args={}), split='test'), 'N': 5}), part='reference', instance_id='id1', index=0)},\n",
       " ('the',\n",
       "  'study,',\n",
       "  'development,',\n",
       "  'and',\n",
       "  'deployment'): {EntryDataOverlapKey(stats_key=DataOverlapStatsKey(metadata={'light_scenario_key': LightScenarioKey(scenario_spec=ScenarioSpec(class_name='helm.benchmark.scenarios.natural_qa_scenario.NaturalQAScenario', args={}), split='test'), 'N': 5}), part='input', instance_id='id1', index=0), EntryDataOverlapKey(stats_key=DataOverlapStatsKey(metadata={'light_scenario_key': LightScenarioKey(scenario_spec=ScenarioSpec(class_name='helm.benchmark.scenarios.natural_qa_scenario.NaturalQAScenario', args={}), split='test'), 'N': 5}), part='reference', instance_id='id1', index=0)},\n",
       " ('study,',\n",
       "  'development,',\n",
       "  'and',\n",
       "  'deployment',\n",
       "  'of'): {EntryDataOverlapKey(stats_key=DataOverlapStatsKey(metadata={'light_scenario_key': LightScenarioKey(scenario_spec=ScenarioSpec(class_name='helm.benchmark.scenarios.natural_qa_scenario.NaturalQAScenario', args={}), split='test'), 'N': 5}), part='input', instance_id='id1', index=0), EntryDataOverlapKey(stats_key=DataOverlapStatsKey(metadata={'light_scenario_key': LightScenarioKey(scenario_spec=ScenarioSpec(class_name='helm.benchmark.scenarios.natural_qa_scenario.NaturalQAScenario', args={}), split='test'), 'N': 5}), part='reference', instance_id='id1', index=0)},\n",
       " ('development,',\n",
       "  'and',\n",
       "  'deployment',\n",
       "  'of',\n",
       "  'foundation'): {EntryDataOverlapKey(stats_key=DataOverlapStatsKey(metadata={'light_scenario_key': LightScenarioKey(scenario_spec=ScenarioSpec(class_name='helm.benchmark.scenarios.natural_qa_scenario.NaturalQAScenario', args={}), split='test'), 'N': 5}), part='input', instance_id='id1', index=0), EntryDataOverlapKey(stats_key=DataOverlapStatsKey(metadata={'light_scenario_key': LightScenarioKey(scenario_spec=ScenarioSpec(class_name='helm.benchmark.scenarios.natural_qa_scenario.NaturalQAScenario', args={}), split='test'), 'N': 5}), part='reference', instance_id='id1', index=0)},\n",
       " ('and',\n",
       "  'deployment',\n",
       "  'of',\n",
       "  'foundation',\n",
       "  'models.'): {EntryDataOverlapKey(stats_key=DataOverlapStatsKey(metadata={'light_scenario_key': LightScenarioKey(scenario_spec=ScenarioSpec(class_name='helm.benchmark.scenarios.natural_qa_scenario.NaturalQAScenario', args={}), split='test'), 'N': 5}), part='input', instance_id='id1', index=0), EntryDataOverlapKey(stats_key=DataOverlapStatsKey(metadata={'light_scenario_key': LightScenarioKey(scenario_spec=ScenarioSpec(class_name='helm.benchmark.scenarios.natural_qa_scenario.NaturalQAScenario', args={}), split='test'), 'N': 5}), part='reference', instance_id='id1', index=0)}}"
      ]
     },
     "execution_count": 4,
     "metadata": {},
     "output_type": "execute_result"
    }
   ],
   "source": [
    "ngram_index[5]"
   ]
  },
  {
   "cell_type": "code",
   "execution_count": 5,
   "id": "c729c92e",
   "metadata": {},
   "outputs": [],
   "source": [
    "ALL_DATA_OVERLAP_STATS = [\n",
    "        OutputDataOverlapStats(\n",
    "            output_data_overlap_stats_key=OutputDataOverlapStatsKey(\n",
    "                light_scenario_key=LightScenarioKey(\n",
    "                    scenario_spec=ScenarioSpec(\n",
    "                        class_name=\"helm.benchmark.scenarios.natural_qa_scenario.NaturalQAScenario\", args={}\n",
    "                    ),\n",
    "                    split=\"test\",\n",
    "                ),\n",
    "                overlap_protocol_spec=OverlapProtocolSpec(N=13),\n",
    "            ),\n",
    "            instance_ids_with_overlapping_input=[\"id1\"],\n",
    "            instance_ids_with_overlapping_reference=[\"id1\"],\n",
    "        ),\n",
    "        OutputDataOverlapStats(\n",
    "            output_data_overlap_stats_key=OutputDataOverlapStatsKey(\n",
    "                light_scenario_key=LightScenarioKey(\n",
    "                    scenario_spec=ScenarioSpec(\n",
    "                        class_name=\"helm.benchmark.scenarios.natural_qa_scenario.NaturalQAScenario\", args={}\n",
    "                    ),\n",
    "                    split=\"test\",\n",
    "                ),\n",
    "                overlap_protocol_spec=OverlapProtocolSpec(N=5),\n",
    "            ),\n",
    "            instance_ids_with_overlapping_input=[\"id1\"],\n",
    "            instance_ids_with_overlapping_reference=[\"id1\"],\n",
    "        ),\n",
    "    ]\n"
   ]
  },
  {
   "cell_type": "code",
   "execution_count": 6,
   "id": "119b5e76",
   "metadata": {},
   "outputs": [],
   "source": [
    "ALL_DATA_OVERLAP_STATS2 = [\n",
    "        OutputDataOverlapStats(\n",
    "            output_data_overlap_stats_key=OutputDataOverlapStatsKey(\n",
    "                light_scenario_key=LightScenarioKey(\n",
    "                    scenario_spec=ScenarioSpec(\n",
    "                        class_name=\"helm.benchmark.scenarios.natural_qa_scenario.NaturalQAScenario\", args={}\n",
    "                    ),\n",
    "                    split=\"test\",\n",
    "                ),\n",
    "                overlap_protocol_spec=OverlapProtocolSpec(N=13),\n",
    "            ),\n",
    "            instance_ids_with_overlapping_input=[\"id1\"],\n",
    "            instance_ids_with_overlapping_reference=[\"id1\"],\n",
    "        ),\n",
    "        OutputDataOverlapStats(\n",
    "            output_data_overlap_stats_key=OutputDataOverlapStatsKey(\n",
    "                light_scenario_key=LightScenarioKey(\n",
    "                    scenario_spec=ScenarioSpec(\n",
    "                        class_name=\"helm.benchmark.scenarios.natural_qa_scenario.NaturalQAScenario\", args={}\n",
    "                    ),\n",
    "                    split=\"test\",\n",
    "                ),\n",
    "                overlap_protocol_spec=OverlapProtocolSpec(N=5),\n",
    "            ),\n",
    "            instance_ids_with_overlapping_input=[\"id1\"],\n",
    "            instance_ids_with_overlapping_reference=[\"id1\"],\n",
    "        ),\n",
    "    ]"
   ]
  },
  {
   "cell_type": "code",
   "execution_count": 7,
   "id": "86ca2f91",
   "metadata": {},
   "outputs": [
    {
     "data": {
      "text/plain": [
       "True"
      ]
     },
     "execution_count": 7,
     "metadata": {},
     "output_type": "execute_result"
    }
   ],
   "source": [
    "ALL_DATA_OVERLAP_STATS2 == ALL_DATA_OVERLAP_STATS"
   ]
  },
  {
   "cell_type": "code",
   "execution_count": 8,
   "id": "7f3ce000",
   "metadata": {},
   "outputs": [
    {
     "data": {
      "text/plain": [
       "True"
      ]
     },
     "execution_count": 8,
     "metadata": {},
     "output_type": "execute_result"
    }
   ],
   "source": [
    "ALL_DATA_OVERLAP_STATS2[0].output_data_overlap_stats_key == ALL_DATA_OVERLAP_STATS[0].output_data_overlap_stats_key"
   ]
  },
  {
   "cell_type": "code",
   "execution_count": 9,
   "id": "12c5c054",
   "metadata": {},
   "outputs": [
    {
     "data": {
      "text/plain": [
       "True"
      ]
     },
     "execution_count": 9,
     "metadata": {},
     "output_type": "execute_result"
    }
   ],
   "source": [
    "ALL_DATA_OVERLAP_STATS2[0].instance_ids_with_overlapping_input == ALL_DATA_OVERLAP_STATS[0].instance_ids_with_overlapping_input"
   ]
  },
  {
   "cell_type": "code",
   "execution_count": 10,
   "id": "1afd2b33",
   "metadata": {},
   "outputs": [],
   "source": [
    "stats_key2=ALL_DATA_OVERLAP_STATS2[0].output_data_overlap_stats_key\n",
    "stats_key=ALL_DATA_OVERLAP_STATS[0].output_data_overlap_stats_key"
   ]
  },
  {
   "cell_type": "code",
   "execution_count": 11,
   "id": "0e234bdc",
   "metadata": {},
   "outputs": [
    {
     "data": {
      "text/plain": [
       "True"
      ]
     },
     "execution_count": 11,
     "metadata": {},
     "output_type": "execute_result"
    }
   ],
   "source": [
    "stats_key.overlap_protocol_spec == stats_key2.overlap_protocol_spec"
   ]
  },
  {
   "cell_type": "code",
   "execution_count": 12,
   "id": "2bcf83ce",
   "metadata": {},
   "outputs": [],
   "source": [
    "lsk= stats_key.light_scenario_key "
   ]
  },
  {
   "cell_type": "code",
   "execution_count": 13,
   "id": "be69fd55",
   "metadata": {},
   "outputs": [],
   "source": [
    "lsk2= stats_key2.light_scenario_key"
   ]
  },
  {
   "cell_type": "code",
   "execution_count": 14,
   "id": "d64a13c9",
   "metadata": {},
   "outputs": [],
   "source": [
    "ss = lsk.scenario_spec"
   ]
  },
  {
   "cell_type": "code",
   "execution_count": 15,
   "id": "f2f1a3cb",
   "metadata": {},
   "outputs": [],
   "source": [
    "ss2 = lsk2.scenario_spec"
   ]
  },
  {
   "cell_type": "code",
   "execution_count": 16,
   "id": "c9985867",
   "metadata": {},
   "outputs": [
    {
     "data": {
      "text/plain": [
       "True"
      ]
     },
     "execution_count": 16,
     "metadata": {},
     "output_type": "execute_result"
    }
   ],
   "source": [
    "ss == ss2"
   ]
  },
  {
   "cell_type": "code",
   "execution_count": 17,
   "id": "5fdfadda",
   "metadata": {},
   "outputs": [
    {
     "data": {
      "text/plain": [
       "LightScenarioKey(scenario_spec=ScenarioSpec(class_name='helm.benchmark.scenarios.natural_qa_scenario.NaturalQAScenario', args={}), split='test')"
      ]
     },
     "execution_count": 17,
     "metadata": {},
     "output_type": "execute_result"
    }
   ],
   "source": [
    "lsk"
   ]
  },
  {
   "cell_type": "code",
   "execution_count": 18,
   "id": "3dfad526",
   "metadata": {},
   "outputs": [
    {
     "data": {
      "text/plain": [
       "LightScenarioKey(scenario_spec=ScenarioSpec(class_name='helm.benchmark.scenarios.natural_qa_scenario.NaturalQAScenario', args={}), split='test')"
      ]
     },
     "execution_count": 18,
     "metadata": {},
     "output_type": "execute_result"
    }
   ],
   "source": [
    "lsk2"
   ]
  },
  {
   "cell_type": "code",
   "execution_count": 19,
   "id": "d5c5ed72",
   "metadata": {},
   "outputs": [
    {
     "data": {
      "text/plain": [
       "True"
      ]
     },
     "execution_count": 19,
     "metadata": {},
     "output_type": "execute_result"
    }
   ],
   "source": [
    "lsk == lsk2"
   ]
  },
  {
   "cell_type": "code",
   "execution_count": 20,
   "id": "9a75da48",
   "metadata": {},
   "outputs": [],
   "source": [
    "self = lsk"
   ]
  },
  {
   "cell_type": "code",
   "execution_count": 21,
   "id": "5c9aa590",
   "metadata": {},
   "outputs": [],
   "source": [
    "other = lsk2"
   ]
  },
  {
   "cell_type": "code",
   "execution_count": 22,
   "id": "b4aabd8b",
   "metadata": {},
   "outputs": [
    {
     "data": {
      "text/plain": [
       "True"
      ]
     },
     "execution_count": 22,
     "metadata": {},
     "output_type": "execute_result"
    }
   ],
   "source": [
    "self.split == other.split and self.scenario_spec.class_name == other.scenario_spec.class_name and self.scenario_spec.args == other.scenario_spec.args"
   ]
  },
  {
   "cell_type": "code",
   "execution_count": null,
   "id": "be7b2652",
   "metadata": {},
   "outputs": [],
   "source": []
  }
 ],
 "metadata": {
  "kernelspec": {
   "display_name": "venv",
   "language": "python",
   "name": "venv"
  },
  "language_info": {
   "codemirror_mode": {
    "name": "ipython",
    "version": 3
   },
   "file_extension": ".py",
   "mimetype": "text/x-python",
   "name": "python",
   "nbconvert_exporter": "python",
   "pygments_lexer": "ipython3",
   "version": "3.10.9"
  }
 },
 "nbformat": 4,
 "nbformat_minor": 5
}
